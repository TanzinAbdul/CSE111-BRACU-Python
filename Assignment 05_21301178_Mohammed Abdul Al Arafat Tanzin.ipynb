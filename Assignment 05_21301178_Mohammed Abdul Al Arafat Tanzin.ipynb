{
 "cells": [
  {
   "cell_type": "markdown",
   "id": "1aa784fb",
   "metadata": {},
   "source": [
    "## Task - 01 "
   ]
  },
  {
   "cell_type": "code",
   "execution_count": 1,
   "id": "8960b012",
   "metadata": {},
   "outputs": [
    {
     "name": "stdout",
     "output_type": "stream",
     "text": [
      "Quiz 1 (out of 10): 10\n",
      "Quiz 2 (out of 10): 10\n",
      "Lab (out of 30): 30\n",
      "Mid (out of 20): 20\n",
      "Final (out of 30): 30\n",
      "Total marks: 100\n"
     ]
    }
   ],
   "source": [
    "class Marks:\n",
    "    \n",
    "    def __init__(self, mark):\n",
    "        self.mark = mark\n",
    "        \n",
    "    def __add__(self, other):\n",
    "        return Marks(self.mark + other.mark)\n",
    "\n",
    "Q1 = Marks(int(input(\"Quiz 1 (out of 10): \"))) \n",
    "Q2 = Marks(int(input(\"Quiz 2 (out of 10): \"))) \n",
    "Lab = Marks(int(input(\"Lab (out of 30): \"))) \n",
    "Mid = Marks(int(input(\"Mid (out of 20): \"))) \n",
    "Final = Marks(int(input(\"Final (out of 30): \"))) \n",
    "total = Q1 + Q2 + Lab + Mid + Final \n",
    "print(\"Total marks: {}\".format(total.mark))"
   ]
  },
  {
   "cell_type": "markdown",
   "id": "70f0d47c",
   "metadata": {},
   "source": [
    "## Task - 02"
   ]
  },
  {
   "cell_type": "code",
   "execution_count": 29,
   "id": "113e04d7",
   "metadata": {},
   "outputs": [
    {
     "name": "stdout",
     "output_type": "stream",
     "text": [
      "====================================\n",
      "Name: Saad Abdullah\n",
      "Department: CSE\n",
      "List of courses\n",
      "====================================\n",
      "CSE 110 Programming Language I\n",
      "CSE 111 Programming Language-II\n",
      "====================================\n",
      "====================================\n",
      "Name: Mumit Khan\n",
      "Department: CSE\n",
      "List of courses\n",
      "====================================\n",
      "CSE 220 Data Structures\n",
      "CSE 221 Algorithms\n",
      "CCSE 230 Discrete Mathematics\n",
      "====================================\n",
      "====================================\n",
      "Name: Sadia Kazi\n",
      "Department: CSE\n",
      "List of courses\n",
      "====================================\n",
      "CSE 310 Object Oriented Programming\n",
      "CSE 320 Data Communications\n",
      "CSE 340 Computer Architecture\n",
      "====================================\n"
     ]
    }
   ],
   "source": [
    "class Teacher:\n",
    "    \n",
    "    def __init__(self, name, dept):\n",
    "        self.__TeachName = name\n",
    "        self.__TeachDept = dept\n",
    "        self.__courses = []\n",
    "        \n",
    "    def addCourse(self, course):\n",
    "        self.__courses.append(course.getcourse())\n",
    "        \n",
    "    def printDetail(self):\n",
    "        print('====================================')\n",
    "        print('Name:', self.__TeachName)\n",
    "        print('Department:', self.__TeachDept)\n",
    "        print('List of courses')\n",
    "        print('====================================')\n",
    "        for course in self.__courses:\n",
    "            print(course)\n",
    "        print('====================================')\n",
    "        \n",
    "    \n",
    "class Course:\n",
    "    \n",
    "    def __init__(self, course):\n",
    "        self.course = course\n",
    "        \n",
    "    def getcourse(self):\n",
    "        return self.course\n",
    "        \n",
    "\n",
    "t1 = Teacher(\"Saad Abdullah\", \"CSE\")\n",
    "t2 = Teacher(\"Mumit Khan\", \"CSE\")\n",
    "t3 = Teacher(\"Sadia Kazi\", \"CSE\")\n",
    "c1 = Course(\"CSE 110 Programming Language I\") \n",
    "c2 = Course(\"CSE 111 Programming Language-II\") \n",
    "c3 = Course(\"CSE 220 Data Structures\")\n",
    "c4 = Course(\"CSE 221 Algorithms\")\n",
    "c5 = Course(\"CCSE 230 Discrete Mathematics\") \n",
    "c6 = Course(\"CSE 310 Object Oriented Programming\")\n",
    "c7 = Course(\"CSE 320 Data Communications\") \n",
    "c8 = Course(\"CSE 340 Computer Architecture\") \n",
    "t1.addCourse(c1)\n",
    "t1.addCourse(c2)\n",
    "t2.addCourse(c3)\n",
    "t2.addCourse(c4)\n",
    "t2.addCourse(c5)\n",
    "t3.addCourse(c6)\n",
    "t3.addCourse(c7)\n",
    "t3.addCourse(c8)\n",
    "t1.printDetail()\n",
    "t2.printDetail()\n",
    "t3.printDetail()"
   ]
  },
  {
   "cell_type": "markdown",
   "id": "c21a4f69",
   "metadata": {},
   "source": [
    "## Task - 03"
   ]
  },
  {
   "cell_type": "code",
   "execution_count": 34,
   "id": "0881c6e2",
   "metadata": {},
   "outputs": [
    {
     "name": "stdout",
     "output_type": "stream",
     "text": [
      "=====================\n",
      "Team: Bangladesh\n",
      "List of Players:\n",
      "['Mashrafi', 'Tamim']\n",
      "=====================\n",
      "=====================\n",
      "Team: Australia\n",
      "List of Players:\n",
      "['Ponting', 'Lee']\n",
      "=====================\n"
     ]
    }
   ],
   "source": [
    "class Team:\n",
    "    \n",
    "    def __init__(self, country = None):\n",
    "        self.__country = country\n",
    "        self.__players = []\n",
    "    \n",
    "    def setName(self, country):\n",
    "        self.__country = country\n",
    "        \n",
    "    def addPlayer(self, player):\n",
    "        self.__players.append(player.getName())\n",
    "        \n",
    "    def printDetail(self):\n",
    "        print('=====================')\n",
    "        print('Team:', self.__country)\n",
    "        print('List of Players:')\n",
    "        print(self.__players)\n",
    "        print('=====================')\n",
    "    \n",
    "class Player:\n",
    "    \n",
    "    def __init__(self, name):\n",
    "        self.name = name\n",
    "    \n",
    "    def getName(self):\n",
    "        return self.name\n",
    "\n",
    "b = Team() \n",
    "b.setName('Bangladesh') \n",
    "mashrafi = Player(\"Mashrafi\") \n",
    "b.addPlayer(mashrafi)\n",
    "tamim = Player(\"Tamim\") \n",
    "b.addPlayer(tamim) \n",
    "b.printDetail()\n",
    "a = Team(\"Australia\") \n",
    "ponting = Player(\"Ponting\") \n",
    "a.addPlayer(ponting)\n",
    "lee = Player(\"Lee\") \n",
    "a.addPlayer(lee) \n",
    "a.printDetail()"
   ]
  },
  {
   "cell_type": "markdown",
   "id": "873018bd",
   "metadata": {},
   "source": [
    "## Task - 04"
   ]
  },
  {
   "cell_type": "code",
   "execution_count": 40,
   "id": "9eba98b2",
   "metadata": {},
   "outputs": [
    {
     "name": "stdout",
     "output_type": "stream",
     "text": [
      "First Color: yellow\n",
      "Second Color: BLUE\n",
      "Color formed: Green\n"
     ]
    }
   ],
   "source": [
    "class Color:\n",
    "    \n",
    "    def __init__(self, color):\n",
    "        self.clr = color\n",
    "        \n",
    "    def __add__(self, other):\n",
    "        if (self.clr == 'red' and other.clr == 'blue') or (self.clr == 'blue' and other.clr == 'red'):\n",
    "            result = 'Violet'\n",
    "        elif (self.clr == 'red' and other.clr == 'yellow') or (self.clr == 'yellow' and other.clr == 'red'):\n",
    "            result = 'Orange'\n",
    "        elif (self.clr == 'blue' and other.clr == 'yellow') or (self.clr == 'yellow' and other.clr == 'blue'):\n",
    "            result = 'Green'\n",
    "        return Color(result)\n",
    "\n",
    "C1 = Color(input(\"First Color: \").lower()) \n",
    "C2 = Color(input(\"Second Color: \").lower()) \n",
    "C3 = C1 + C2\n",
    "print(\"Color formed:\", C3.clr)"
   ]
  },
  {
   "cell_type": "markdown",
   "id": "acb626c2",
   "metadata": {},
   "source": [
    "## Task - 05"
   ]
  },
  {
   "cell_type": "code",
   "execution_count": 46,
   "id": "fda8890d",
   "metadata": {},
   "outputs": [
    {
     "name": "stdout",
     "output_type": "stream",
     "text": [
      "First circle radius: 4\n",
      "First circle area: 50.26548245743669\n",
      "Second circle radius: 5\n",
      "Second circle area: 78.53981633974483\n",
      "Third circle radius: 9\n",
      "Third circle area: 254.46900494077323\n"
     ]
    }
   ],
   "source": [
    "import math\n",
    "\n",
    "class Circle:\n",
    "    \n",
    "    def __init__(self, radius):\n",
    "        self.__radius = radius\n",
    "    \n",
    "    def getRadius(self):\n",
    "        return self.__radius\n",
    "        \n",
    "    def setRadius(self, radius):\n",
    "        self.__radius = radius\n",
    "        \n",
    "    def area(self):\n",
    "        return ((self.__radius**2)*(math.pi))\n",
    "    \n",
    "    def __add__(self, other):\n",
    "        return Circle(self.__radius + other.__radius)\n",
    "\n",
    "c1 = Circle(4)\n",
    "print(\"First circle radius:\" , c1.getRadius()) \n",
    "print(\"First circle area:\" ,c1.area())\n",
    "c2 = Circle(5)\n",
    "print(\"Second circle radius:\" ,c2.getRadius()) \n",
    "print(\"Second circle area:\" ,c2.area())\n",
    "c3 = c1 + c2\n",
    "print(\"Third circle radius:\" ,c3.getRadius()) \n",
    "print(\"Third circle area:\" ,c3.area())"
   ]
  },
  {
   "cell_type": "markdown",
   "id": "a34d6a7c",
   "metadata": {},
   "source": [
    "## Task - 06"
   ]
  },
  {
   "cell_type": "code",
   "execution_count": 50,
   "id": "e391ddbc",
   "metadata": {},
   "outputs": [
    {
     "name": "stdout",
     "output_type": "stream",
     "text": [
      "First Triangle Base: 10\n",
      "First Triangle Height: 5\n",
      "First Triangle area: 25.0\n",
      "Second Triangle Base: 5\n",
      "Second Triangle Height: 3\n",
      "Second Triangle area: 7.5\n",
      "Third Triangle Base: 5\n",
      "Third Triangle Height: 2\n",
      "Third Triangle area: 5.0\n"
     ]
    }
   ],
   "source": [
    "class Triangle:\n",
    "    \n",
    "    def __init__(self, base, height):\n",
    "        self.__base = base\n",
    "        self.__height = height\n",
    "        \n",
    "    def getBase(self):\n",
    "        return self.__base\n",
    "    \n",
    "    def getHeight(self):\n",
    "        return self.__height\n",
    "    \n",
    "    def setBase(self, base):\n",
    "        self.__base = base\n",
    "    \n",
    "    def setHeight(self, height):\n",
    "        self.__height = height\n",
    "        \n",
    "    def area(self):\n",
    "        return (0.5 * self.__height * self.__base)\n",
    "    \n",
    "    def __sub__(self, other):\n",
    "        return Triangle((self.__base - other.__base), (self.__height - other.__height))\n",
    "\n",
    "t1 = Triangle(10, 5)\n",
    "print(\"First Triangle Base:\" , t1.getBase()) \n",
    "print(\"First Triangle Height:\" , t1.getHeight()) \n",
    "print(\"First Triangle area:\" ,t1.area())\n",
    "t2 = Triangle(5, 3)\n",
    "print(\"Second Triangle Base:\" , t2.getBase()) \n",
    "print(\"Second Triangle Height:\" , t2.getHeight())\n",
    "print(\"Second Triangle area:\" ,t2.area())\n",
    "t3 = t1 - t2\n",
    "print(\"Third Triangle Base:\" , t3.getBase()) \n",
    "print(\"Third Triangle Height:\" , t3.getHeight()) \n",
    "print(\"Third Triangle area:\" ,t3.area())"
   ]
  },
  {
   "cell_type": "markdown",
   "id": "b40b8b42",
   "metadata": {},
   "source": [
    "## Task - 07 "
   ]
  },
  {
   "cell_type": "code",
   "execution_count": 3,
   "id": "ee6162d3",
   "metadata": {},
   "outputs": [
    {
     "name": "stdout",
     "output_type": "stream",
     "text": [
      "Doll: Tweety\n",
      "Total Price: 2500\n",
      "Thank you!\n",
      "=========================\n",
      "Doll: Daffy Duck\n",
      "Total Price: 1800\n",
      "Thank you!\n",
      "=========================\n",
      "Doll: Bugs Bunny\n",
      "Total Price: 3000\n",
      "Congratulations! You get the Tweety as a gift!\n",
      "=========================\n",
      "Doll: Porky Pig\n",
      "Total Price: 1500\n",
      "Thank you!\n",
      "=========================\n",
      "Doll: Daffy DuckBugs Bunny\n",
      "Total Price: 4800\n",
      "Congratulations! You get the Tweety as a gift!\n"
     ]
    }
   ],
   "source": [
    "class Dolls:\n",
    "    \n",
    "    def __init__(self, name, price):\n",
    "        self.name = name\n",
    "        self.price = price\n",
    "        \n",
    "    def __gt__(self, other):\n",
    "        if self.price > other.price:\n",
    "            return True\n",
    "        else:\n",
    "            return False\n",
    "        \n",
    "    def detail(self):\n",
    "        return 'Doll: '+ self.name + '\\nTotal Price: ' + str(self.price)\n",
    "        \n",
    "    def __add__(self, other):\n",
    "        price = self.price + other.price\n",
    "        name = self.name + other.name\n",
    "        return Dolls(name, price)\n",
    "\n",
    "\n",
    "obj_1 = Dolls(\"Tweety\", 2500) \n",
    "print(obj_1.detail())\n",
    "if obj_1 > obj_1:\n",
    "    print(\"Congratulations! You get the Tweety as a gift!\")\n",
    "else:\n",
    "    print(\"Thank you!\")\n",
    "\n",
    "print(\"=========================\") \n",
    "obj_2 = Dolls(\"Daffy Duck\", 1800) \n",
    "print(obj_2.detail())\n",
    "if obj_2 > obj_1:\n",
    "    print(\"Congratulations! You get the Tweety as a gift!\") \n",
    "else:\n",
    "    print(\"Thank you!\")\n",
    "    \n",
    "print(\"=========================\") \n",
    "obj_3 = Dolls(\"Bugs Bunny\", 3000) \n",
    "print(obj_3.detail())\n",
    "if obj_3 > obj_1:\n",
    "    print(\"Congratulations! You get the Tweety as a gift!\") \n",
    "else:\n",
    "    print(\"Thank you!\")\n",
    "    \n",
    "print(\"=========================\") \n",
    "obj_4 = Dolls(\"Porky Pig\", 1500) \n",
    "print(obj_4.detail())\n",
    "if obj_4 > obj_1:\n",
    "    print(\"Congratulations! You get the Tweety as a gift!\") \n",
    "else:\n",
    "    print(\"Thank you!\")\n",
    "    \n",
    "print(\"=========================\") \n",
    "obj_5 = obj_2 + obj_3\n",
    "print(obj_5.detail())\n",
    "if obj_5 > obj_1:\n",
    "    print(\"Congratulations! You get the Tweety as a gift!\") \n",
    "else:\n",
    "    print(\"Thank you!\")"
   ]
  },
  {
   "cell_type": "markdown",
   "id": "2bfe8f04",
   "metadata": {},
   "source": [
    "## Task - 08"
   ]
  },
  {
   "cell_type": "code",
   "execution_count": 65,
   "id": "4fe9edfa",
   "metadata": {},
   "outputs": [
    {
     "name": "stdout",
     "output_type": "stream",
     "text": [
      "0\n",
      "0\n",
      "0\n",
      "0\n",
      "(0,0)\n",
      "(0,0)\n",
      "The calculated coordinates are the same.\n"
     ]
    }
   ],
   "source": [
    "class Coordinates:\n",
    "    \n",
    "    def __init__(self, x, y):\n",
    "        self.x = x\n",
    "        self.y = y\n",
    "        \n",
    "    def __sub__(self, other):\n",
    "        x = self.x - other.x\n",
    "        y = self.y - other.y\n",
    "        return Coordinates(x, y)\n",
    "    \n",
    "    def __mul__(self, other):\n",
    "        x = self.x * other.x\n",
    "        y = self.y * other.y\n",
    "        return Coordinates(x, y)\n",
    "        \n",
    "    def __eq__(self, other):\n",
    "        if self.x == other.x and self.y == other.y:\n",
    "            return 'The calculated coordinates are the same.'\n",
    "        else:\n",
    "            return 'The calculated coordinates are NOT the same.'\n",
    "            \n",
    "    def detail(self):\n",
    "        return '(' + str(self.x) +',' + str(self.y) +')'\n",
    "\n",
    "\n",
    "p1 = Coordinates(int(input()),int(input())) \n",
    "p2 = Coordinates(int(input()),int(input()))\n",
    "p4 = p1 - p2 \n",
    "print(p4.detail())\n",
    "p5 = p1 * p2 \n",
    "print(p5.detail())\n",
    "point_check = (p4 == p5) \n",
    "print(point_check)"
   ]
  }
 ],
 "metadata": {
  "kernelspec": {
   "display_name": "Python 3",
   "language": "python",
   "name": "python3"
  },
  "language_info": {
   "codemirror_mode": {
    "name": "ipython",
    "version": 3
   },
   "file_extension": ".py",
   "mimetype": "text/x-python",
   "name": "python",
   "nbconvert_exporter": "python",
   "pygments_lexer": "ipython3",
   "version": "3.8.8"
  }
 },
 "nbformat": 4,
 "nbformat_minor": 5
}
