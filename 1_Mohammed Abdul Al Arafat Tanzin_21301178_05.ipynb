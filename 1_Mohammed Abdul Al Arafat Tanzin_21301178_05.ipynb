{
 "cells": [
  {
   "cell_type": "code",
   "execution_count": 7,
   "id": "f5f1ef90",
   "metadata": {},
   "outputs": [
    {
     "name": "stdout",
     "output_type": "stream",
     "text": [
      "Enter N: 6\n",
      "Enter player data: 2021 AustralianOpen Djokovic\n",
      "Enter player data: 2021 FrenchOpen Djokovic\n",
      "Enter player data: 2020 FrenchOpen Nadal\n",
      "Enter player data: 2020 USOpen Dominic\n",
      "Enter player data: 2020 AustralianOpen Djokovic\n",
      "Enter player data: 2019 USOpen Nadal\n",
      "{'Djokovic': {'2021': ['AustralianOpen', 'FrenchOpen'], '2020': ['AustralianOpen']}, 'Nadal': {'2020': ['FrenchOpen'], '2019': ['USOpen']}, 'Dominic': {'2020': ['USOpen']}}\n"
     ]
    }
   ],
   "source": [
    "n = int(input('Enter N: '))\n",
    "player_list = []\n",
    "for i in range(n):\n",
    "    player_list.append(input('Enter player data: ').split(' '))\n",
    "player_dict = {}\n",
    "    \n",
    "for data in player_list:\n",
    "    if data[2] not in player_dict:\n",
    "        player_dict[data[2]] = {}\n",
    "        \n",
    "for data in player_list:\n",
    "    if data[2] in player_dict:\n",
    "        player_dict[data[2]][data[0]] = []\n",
    "\n",
    "for data in player_list:\n",
    "    player_dict[data[2]][data[0]].append(data[1])\n",
    "         \n",
    "print(player_dict)"
   ]
  },
  {
   "cell_type": "code",
   "execution_count": null,
   "id": "ba54003f",
   "metadata": {},
   "outputs": [],
   "source": [
    "Enter N: 6\n",
    "Enter player data: 2021 AustralianOpen Djokovic\n",
    "Enter player data: 2021 FrenchOpen Djokovic\n",
    "Enter player data: 2020 FrenchOpen Nadal\n",
    "Enter player data: 2020 USOpen Dominic\n",
    "Enter player data: 2020 AustralianOpen Djokovic\n",
    "Enter player data: 2019 USOpen Nadal"
   ]
  },
  {
   "cell_type": "code",
   "execution_count": 9,
   "id": "3f335acd",
   "metadata": {},
   "outputs": [
    {
     "name": "stdout",
     "output_type": "stream",
     "text": [
      "{'Djokovic': {2021: ['AustralianOpen', 'FrenchOpen'], 2020: ['AustralianOpen']}, 'Nadal': {2020: ['FrenchOpen'], 2019: ['USOpen']}, 'Dominic': {2020: ['USOpen']}}\n"
     ]
    }
   ],
   "source": [
    "player_list = [[2021, 'AustralianOpen', 'Djokovic'], [2021, 'FrenchOpen', 'Djokovic']\n",
    "               , [2020, 'FrenchOpen', 'Nadal'], [2020, 'USOpen', 'Dominic']\n",
    "               , [2020, 'AustralianOpen', 'Djokovic'], [2019, 'USOpen', 'Nadal']]\n",
    "\n",
    "player_dict = {}\n",
    "    \n",
    "for data in player_list:\n",
    "    player_dict[data[2]] = {}\n",
    "        \n",
    "for data in player_list:\n",
    "    player_dict[data[2]][data[0]] = []\n",
    "\n",
    "for data in player_list:\n",
    "    player_dict[data[2]][data[0]].append(data[1])\n",
    "         \n",
    "print(player_dict)"
   ]
  }
 ],
 "metadata": {
  "kernelspec": {
   "display_name": "Python 3",
   "language": "python",
   "name": "python3"
  },
  "language_info": {
   "codemirror_mode": {
    "name": "ipython",
    "version": 3
   },
   "file_extension": ".py",
   "mimetype": "text/x-python",
   "name": "python",
   "nbconvert_exporter": "python",
   "pygments_lexer": "ipython3",
   "version": "3.8.8"
  }
 },
 "nbformat": 4,
 "nbformat_minor": 5
}
