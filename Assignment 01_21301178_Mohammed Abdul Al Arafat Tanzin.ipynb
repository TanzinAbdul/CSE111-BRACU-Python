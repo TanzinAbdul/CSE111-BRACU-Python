{
 "cells": [
  {
   "cell_type": "markdown",
   "id": "bf05f094",
   "metadata": {},
   "source": [
    "## String - 1\n"
   ]
  },
  {
   "cell_type": "code",
   "execution_count": 4,
   "id": "d9734e22",
   "metadata": {},
   "outputs": [
    {
     "name": "stdout",
     "output_type": "stream",
     "text": [
      "Enter a string: BaNaNa\n",
      "banana\n"
     ]
    }
   ],
   "source": [
    "string1 = input('Enter a string: ')\n",
    "upper = 0\n",
    "lower = 0\n",
    "for letter in string1:\n",
    "    if letter >= \"A\" and letter <= \"Z\":\n",
    "        upper += 1\n",
    "    else:\n",
    "        lower += 1 \n",
    "if upper > lower:\n",
    "    print(string1.upper())\n",
    "else:\n",
    "    print(string1.lower())"
   ]
  },
  {
   "cell_type": "markdown",
   "id": "88a93cc0",
   "metadata": {},
   "source": [
    "## String - 2"
   ]
  },
  {
   "cell_type": "code",
   "execution_count": 17,
   "id": "98a675fa",
   "metadata": {},
   "outputs": [
    {
     "name": "stdout",
     "output_type": "stream",
     "text": [
      "Enter a string: jhg231j213\n",
      "MIXED\n"
     ]
    }
   ],
   "source": [
    "string2 = input('Enter a string: ')\n",
    "letter = 0\n",
    "num = 0\n",
    "for elem in string2:\n",
    "    if elem >= 'A' and elem <= 'z':\n",
    "        letter = 1\n",
    "    elif elem >= '0' and elem <= '9':\n",
    "        num = 2\n",
    "if (letter+num) == 1:\n",
    "    print('WORD')\n",
    "elif (letter+num) == 2:\n",
    "    print('NUMBER')\n",
    "else:\n",
    "    print('MIXED')"
   ]
  },
  {
   "cell_type": "markdown",
   "id": "74eeee8f",
   "metadata": {},
   "source": [
    "## String - 3"
   ]
  },
  {
   "cell_type": "code",
   "execution_count": 1,
   "id": "dfdaf2c1",
   "metadata": {},
   "outputs": [
    {
     "name": "stdout",
     "output_type": "stream",
     "text": [
      "Enter a string: coDIng\n",
      "BLANK\n"
     ]
    }
   ],
   "source": [
    "string3 = input('Enter a string: ')\n",
    "number = 0\n",
    "output = ''\n",
    "for letter in string3:\n",
    "    if letter >= 'A' and letter <= 'Z':\n",
    "        number += 1\n",
    "    if number == 1:\n",
    "        output += letter\n",
    "output = output[1:]\n",
    "if len(output) == 0:\n",
    "    print('BLANK')\n",
    "else:\n",
    "    print(output)"
   ]
  },
  {
   "cell_type": "markdown",
   "id": "69bbc46f",
   "metadata": {},
   "source": [
    "## String - 4"
   ]
  },
  {
   "cell_type": "code",
   "execution_count": 25,
   "id": "465e9481",
   "metadata": {},
   "outputs": [
    {
     "name": "stdout",
     "output_type": "stream",
     "text": [
      "Enter a string: The book is not too good!\n",
      "The book is not excellent!\n"
     ]
    }
   ],
   "source": [
    "string4 = input('Enter a string: ')\n",
    "if 'too good' in string4:\n",
    "    print(string4.replace('too good', 'excellent'))\n",
    "else:\n",
    "    print(string4)"
   ]
  },
  {
   "cell_type": "markdown",
   "id": "4c4fce60",
   "metadata": {},
   "source": [
    "## String - 5"
   ]
  },
  {
   "cell_type": "code",
   "execution_count": 2,
   "id": "df3a0a66",
   "metadata": {},
   "outputs": [
    {
     "name": "stdout",
     "output_type": "stream",
     "text": [
      "Enter two string: harry, hermione\n",
      "hrrhr\n"
     ]
    }
   ],
   "source": [
    "word1, word2 = input('Enter two string: ').split(',')\n",
    "new_string = ''\n",
    "for let in word1:\n",
    "    if let in word2:\n",
    "        new_string += let\n",
    "for let in word2:\n",
    "    if let in word1:\n",
    "        new_string += let\n",
    "if len(new_string) == 0:\n",
    "    print('Nothing in common.')\n",
    "else:\n",
    "    print(new_string)"
   ]
  },
  {
   "cell_type": "markdown",
   "id": "c2658786",
   "metadata": {},
   "source": [
    "## String - 6"
   ]
  },
  {
   "cell_type": "code",
   "execution_count": 5,
   "id": "b73ac11e",
   "metadata": {},
   "outputs": [
    {
     "name": "stdout",
     "output_type": "stream",
     "text": [
      "Enter new password: OhMyBR@CU20\n",
      "OK\n"
     ]
    }
   ],
   "source": [
    "string6 = input('Enter new password: ')\n",
    "lower = 0\n",
    "upper = 0\n",
    "digit = 0\n",
    "special = 0\n",
    "miss = []\n",
    "count = 1\n",
    "for let in string6:\n",
    "    if let >= 'A' and let <= 'Z':\n",
    "        upper = 1\n",
    "    elif let >= 'a' and let <= 'z':\n",
    "        lower = 1\n",
    "    elif let >= '0' and let <= '9':\n",
    "        digit = 1 \n",
    "    elif (let >= '!' and let <= '@') or let == '_':\n",
    "        special = 1\n",
    "if (lower+upper+digit+special) == 4:\n",
    "    print(\"OK\")\n",
    "else:\n",
    "    if lower == 0:\n",
    "        miss.append('Lowercase character missing')\n",
    "    if upper == 0:\n",
    "        miss.append('Uppercase character missing')\n",
    "    if digit == 0:  \n",
    "        miss.append('Digit missing')\n",
    "    if special == 0:\n",
    "        miss.append('Special character missing')\n",
    "    for word in miss:\n",
    "        if len(miss) == count:\n",
    "            print(word)\n",
    "        else: \n",
    "            print(word, end=', ')\n",
    "        count += 1"
   ]
  },
  {
   "cell_type": "markdown",
   "id": "6f34ea18",
   "metadata": {},
   "source": [
    "## List - 1"
   ]
  },
  {
   "cell_type": "code",
   "execution_count": 15,
   "id": "65b79944",
   "metadata": {},
   "outputs": [
    {
     "name": "stdout",
     "output_type": "stream",
     "text": [
      "Enter number: 10\n",
      "Enter number: 20\n",
      "Enter number: 20\n",
      "Enter number: 30\n",
      "Enter number: 10\n",
      "Enter number: 50\n",
      "Enter number: 90\n",
      "Enter number: STOP\n",
      "10 - 2 times\n",
      "20 - 2 times\n",
      "30 - 1 times\n",
      "50 - 1 times\n",
      "90 - 1 times\n"
     ]
    }
   ],
   "source": [
    "list1 = []\n",
    "user = input('Enter number: ')\n",
    "while user != 'STOP':\n",
    "    list1.append(int(user))\n",
    "    user = input('Enter number: ')\n",
    "list1_a =[]\n",
    "for num in list1:\n",
    "    if int(num) not in list1_a:\n",
    "        list1_a.append(int(num))\n",
    "for item in list1_a:\n",
    "    print(item, '-', list1.count(int(item)), 'times')"
   ]
  },
  {
   "cell_type": "markdown",
   "id": "d35b77b2",
   "metadata": {},
   "source": [
    "## List - 2"
   ]
  },
  {
   "cell_type": "code",
   "execution_count": 58,
   "id": "5ff1b367",
   "metadata": {},
   "outputs": [
    {
     "name": "stdout",
     "output_type": "stream",
     "text": [
      "Enter the value of N: 4\n",
      "Enter list: 1 2 3\n",
      "Enter list: 4 5 6\n",
      "Enter list: 10 11 12\n",
      "Enter list: 7 8 9\n",
      "33\n",
      "[10, 11, 12]\n"
     ]
    }
   ],
   "source": [
    "num = int(input('Enter the value of N: '))\n",
    "list2 = []\n",
    "for i in range(num):\n",
    "    list2.append(input('Enter list: ').split(' '))\n",
    "maximum = 0\n",
    "for elem in list2[0]:\n",
    "    maximum += int(elem)\n",
    "max_list = []\n",
    "add = 0\n",
    "for elem in list2:\n",
    "    add = 0\n",
    "    for num in elem:\n",
    "        add += int(num)\n",
    "    if add > maximum:\n",
    "        maximum = add\n",
    "        max_list = elem\n",
    "int_max_list = []\n",
    "for elem in max_list:\n",
    "    int_max_list.append(int(elem))\n",
    "print(maximum)\n",
    "print(int_max_list)"
   ]
  },
  {
   "cell_type": "markdown",
   "id": "506f04d7",
   "metadata": {},
   "source": [
    "## List - 3"
   ]
  },
  {
   "cell_type": "code",
   "execution_count": 60,
   "id": "58295886",
   "metadata": {},
   "outputs": [
    {
     "name": "stdout",
     "output_type": "stream",
     "text": [
      "Enter list1: 2 3 6\n",
      "Enter list2: 3 4 5\n",
      "[6, 8, 10, 9, 12, 15, 18, 24, 30]\n"
     ]
    }
   ],
   "source": [
    "list_a = input('Enter list1: ').split(' ')\n",
    "list_b = input('Enter list2: ').split(' ')\n",
    "result = []\n",
    "for item in list_a:\n",
    "    for elem in list_b:\n",
    "        result.append(int(item)*int(elem))\n",
    "print(result)"
   ]
  },
  {
   "cell_type": "markdown",
   "id": "6959d4ec",
   "metadata": {},
   "source": [
    "## List - 4\n"
   ]
  },
  {
   "cell_type": "code",
   "execution_count": 3,
   "id": "a19a9f11",
   "metadata": {},
   "outputs": [
    {
     "name": "stdout",
     "output_type": "stream",
     "text": [
      "Enter list: 1 4 2 3\n",
      "UB jumper\n",
      "Enter list: 2 1 4 6 10\n",
      "UB jumper\n",
      "Enter list: 1 4 2 -1 6\n",
      "Not UB jumper\n",
      "Enter list: STOP\n"
     ]
    }
   ],
   "source": [
    "user_list = input('Enter list: ')\n",
    "while user_list != 'STOP':\n",
    "    list4 = user_list.split(' ')\n",
    "    for index in range(len(list4)-1):\n",
    "        if abs(int(list4[index]) - int(list4[index + 1])) > len(list4) - 1:\n",
    "            result = 'Not UB jumper'\n",
    "        else:\n",
    "            result = 'UB jumper'\n",
    "    print(result)\n",
    "    user_list = input('Enter list: ')"
   ]
  },
  {
   "cell_type": "markdown",
   "id": "64f13b28",
   "metadata": {},
   "source": [
    "## List - 5\n"
   ]
  },
  {
   "cell_type": "code",
   "execution_count": 13,
   "id": "62771af1",
   "metadata": {},
   "outputs": [
    {
     "name": "stdout",
     "output_type": "stream",
     "text": [
      "Enter string: Bracu1234\n",
      "acruB1324"
     ]
    }
   ],
   "source": [
    "list5 = input('Enter string: ')\n",
    "lower_case = ''\n",
    "upper_case = ''\n",
    "odd = ''\n",
    "even = ''\n",
    "for elem in list5:\n",
    "    if elem >= 'a' and elem <= 'z':\n",
    "        lower_case += elem\n",
    "    elif elem >= 'A' and elem <= 'Z':\n",
    "        upper_case += elem\n",
    "    elif elem >= '0' and elem <= '9':\n",
    "        if int(elem)%2 ==0:\n",
    "            even += elem\n",
    "        else:\n",
    "            odd += elem\n",
    "result = [sorted(lower_case), sorted(upper_case), sorted(odd), sorted(even)]\n",
    "for elem in result:\n",
    "    for letter in elem:\n",
    "        print(letter, end='')"
   ]
  },
  {
   "cell_type": "markdown",
   "id": "b85c721b",
   "metadata": {},
   "source": [
    "## List - 6"
   ]
  },
  {
   "cell_type": "code",
   "execution_count": 26,
   "id": "93716468",
   "metadata": {},
   "outputs": [
    {
     "name": "stdout",
     "output_type": "stream",
     "text": [
      "Enter n k value: 6 4\n",
      "Enter participation time of the student: 0\n",
      "Enter participation time of the student: 1\n",
      "Enter participation time of the student: 2\n",
      "Enter participation time of the student: 3\n",
      "Enter participation time of the student: 4\n",
      "Enter participation time of the student: 5\n",
      "0\n"
     ]
    }
   ],
   "source": [
    "n, k = input('Enter n k value: ').split(' ')\n",
    "can_participate = 0\n",
    "for i in range(int(n)):\n",
    "    took_part = input('Enter participation time of the student: ')\n",
    "    if (5- int(took_part)) >= int(k):\n",
    "        can_participate += 1\n",
    "print(can_participate//3)"
   ]
  },
  {
   "cell_type": "markdown",
   "id": "465d7cec",
   "metadata": {},
   "source": [
    "## Dictionary and Tuple - 1"
   ]
  },
  {
   "cell_type": "code",
   "execution_count": 10,
   "id": "891299f7",
   "metadata": {},
   "outputs": [
    {
     "name": "stdout",
     "output_type": "stream",
     "text": [
      "Enter first dictionary: a: 100, b: 100, c: 200, d: 300\n",
      "Enter second dictionary: a: 300, b: 200, d: 400, e: 200\n",
      "{'a': 400, ' b': 300, ' c': ' 200', ' d': 700, ' e': ' 200'}\n",
      "Values: (200, 300, 400, 700)\n"
     ]
    }
   ],
   "source": [
    "dict_a = input('Enter first dictionary: ').split(',')\n",
    "dict_b = input('Enter second dictionary: ').split(',')\n",
    "dict_1 = {}\n",
    "for item in dict_a:\n",
    "    item = item.split(':')\n",
    "    dict_1[item[0]] = item[1]\n",
    "for item in dict_b:\n",
    "    item = item.split(':')\n",
    "    if item[0] in dict_1:\n",
    "        dict_1[item[0]] = int(item[1]) + int(dict_1[item[0]])\n",
    "    else:\n",
    "        dict_1[item[0]] = item[1]\n",
    "print(dict_1)\n",
    "list = []\n",
    "for value in dict_1.values():\n",
    "    if int(value) not in list:\n",
    "        list.append(int(value))\n",
    "list.sort()\n",
    "print('Values:', tuple(list))"
   ]
  },
  {
   "cell_type": "markdown",
   "id": "1c1da5e6",
   "metadata": {},
   "source": [
    "## Dictionary and Tuple - 2"
   ]
  },
  {
   "cell_type": "code",
   "execution_count": 11,
   "id": "bb7f27fa",
   "metadata": {},
   "outputs": [
    {
     "name": "stdout",
     "output_type": "stream",
     "text": [
      "Enter number: 10\n",
      "Enter number: 20\n",
      "Enter number: 20\n",
      "Enter number: 30\n",
      "Enter number: 10\n",
      "Enter number: 50\n",
      "Enter number: 90\n",
      "Enter number: STOP\n",
      "10 - 2 times\n",
      "20 - 2 times\n",
      "30 - 1 times\n",
      "50 - 1 times\n",
      "90 - 1 times\n"
     ]
    }
   ],
   "source": [
    "list1 = []\n",
    "user = input('Enter number: ')\n",
    "while user != 'STOP':\n",
    "    list1.append(user)\n",
    "    user = input('Enter number: ')\n",
    "dict = {}\n",
    "for elem in list1:\n",
    "    dict[elem] = '- ' + str(list1.count(elem)) + ' times'\n",
    "for key in dict.keys():\n",
    "    print(key, dict[key])"
   ]
  },
  {
   "cell_type": "markdown",
   "id": "efe5f77e",
   "metadata": {},
   "source": [
    "## Dictionary and Tuple - 3"
   ]
  },
  {
   "cell_type": "code",
   "execution_count": 57,
   "id": "6c4e78c3",
   "metadata": {},
   "outputs": [
    {
     "name": "stdout",
     "output_type": "stream",
     "text": [
      "Enter a dictionary: key1 : value1, key2 : value2, key3 : value1\n",
      "{' value1': ['key1 ', ' key3 '], ' value2': [' key2 ']}\n"
     ]
    }
   ],
   "source": [
    "dict_3 = input('Enter a dictionary: ').split(',')\n",
    "dictionary = {}\n",
    "for item in dict_3:\n",
    "    item = item.split(':')\n",
    "    dictionary[item[0]] = item[1]\n",
    "new_dict = {}\n",
    "for item in dictionary:\n",
    "    if dictionary[item] not in new_dict:\n",
    "        new_dict[dictionary[item]] = [item]\n",
    "    else:\n",
    "        new_dict[dictionary[item]].append(item)\n",
    "print(new_dict)"
   ]
  },
  {
   "cell_type": "markdown",
   "id": "a0850b2c",
   "metadata": {},
   "source": [
    "## Dictionary and Tuple - 4"
   ]
  },
  {
   "cell_type": "code",
   "execution_count": 2,
   "id": "e315cf27",
   "metadata": {},
   "outputs": [
    {
     "name": "stdout",
     "output_type": "stream",
     "text": [
      "Enter string 1: evil\n",
      "Enter string 2: live\n",
      "Those strings are anagrams\n"
     ]
    }
   ],
   "source": [
    "str_1 = input('Enter string 1: ')\n",
    "str_2 = input('Enter string 2: ')\n",
    "dict_1 = {}\n",
    "dict_2 = {}\n",
    "for let in str_1:\n",
    "    if let not in dict_1:\n",
    "        dict_1[let] = 1\n",
    "    else:\n",
    "        dict_1[let] += 1\n",
    "for let in str_2:\n",
    "    if let not in dict_2:\n",
    "        dict_2[let] = 1\n",
    "    else:\n",
    "        dict_2[let] += 1\n",
    "result = 'Those strings are anagrams'\n",
    "if len(dict_1) == len(dict_2):\n",
    "    for item in dict_1.items():\n",
    "        try:\n",
    "            if dict_2[item[0]] != item[1]:\n",
    "                result = 'Those strings are not anagrams'\n",
    "        except Exception:\n",
    "            result = 'Those strings are not anagrams'\n",
    "    print(result)\n",
    "else:\n",
    "    print('Those strings are not anagrams')"
   ]
  },
  {
   "cell_type": "markdown",
   "id": "7ae0a46a",
   "metadata": {},
   "source": [
    "## Dictionary and Tuple - 5"
   ]
  },
  {
   "cell_type": "code",
   "execution_count": 1,
   "id": "be48f4d0",
   "metadata": {},
   "outputs": [
    {
     "name": "stdout",
     "output_type": "stream",
     "text": [
      "Enter message: Hello! world\n",
      "44335555556661111096667775553\n"
     ]
    }
   ],
   "source": [
    "dict_5 = {1:'.,?!:',2:'ABC',3:'DEF',4:'GHI',5:'JKL',6:'MNO',7:'PQRS',8:'TUV', 9:'WXYZ', 0:' '}\n",
    "user_string = input('Enter message: ').upper()\n",
    "keys = ''\n",
    "for let in user_string:\n",
    "    for item in dict_5.items():\n",
    "        if let in item[1]:\n",
    "            keys +=  str(item[0]) * (item[1].index(let) + 1)\n",
    "print(keys)"
   ]
  }
 ],
 "metadata": {
  "kernelspec": {
   "display_name": "Python 3",
   "language": "python",
   "name": "python3"
  },
  "language_info": {
   "codemirror_mode": {
    "name": "ipython",
    "version": 3
   },
   "file_extension": ".py",
   "mimetype": "text/x-python",
   "name": "python",
   "nbconvert_exporter": "python",
   "pygments_lexer": "ipython3",
   "version": "3.8.8"
  }
 },
 "nbformat": 4,
 "nbformat_minor": 5
}
