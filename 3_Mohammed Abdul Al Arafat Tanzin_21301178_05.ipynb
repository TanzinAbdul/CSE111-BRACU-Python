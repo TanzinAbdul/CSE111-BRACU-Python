{
 "cells": [
  {
   "cell_type": "code",
   "execution_count": 4,
   "id": "b8d14db9",
   "metadata": {},
   "outputs": [
    {
     "name": "stdout",
     "output_type": "stream",
     "text": [
      "Total Traveller: 0\n",
      "=========================\n",
      "Name: Naruto\n",
      "Tickets: Mist Village, Rain Village\n",
      "Cost: 15000\n",
      "=========================\n",
      "Name: Minato\n",
      "Tickets: Cloud Village, Sand Village, Stone Village\n",
      "Cost: 21200\n",
      "=========================\n",
      "Name: Kushina\n",
      "Tickets: Leaves Village\n",
      "Cost: 3000\n",
      "=========================\n",
      "Total Traveller: 3\n"
     ]
    }
   ],
   "source": [
    "class Traveller:\n",
    "    count = 0\n",
    "    \n",
    "    def __init__(self, name):\n",
    "        self.name = name\n",
    "        self.destiny = []\n",
    "        self.cost = 0\n",
    "        Traveller.count += 1\n",
    "        \n",
    "    def buyTickets(self, *info):\n",
    "        for ind in range(0, len(info), 2):\n",
    "            self.destiny.append(info[ind])\n",
    "        \n",
    "        for ind in range(1, len(info), 2):\n",
    "            self.cost += info[ind]\n",
    "        \n",
    "    def printDetail(self):\n",
    "        print('Name:', self.name)\n",
    "        print('Tickets:',end=' ')\n",
    "        ind = 0\n",
    "        while ind < len(self.destiny):\n",
    "            if ind == len(self.destiny)-1:\n",
    "                print(self.destiny[ind])\n",
    "            else:\n",
    "                print(self.destiny[ind],end=', ')\n",
    "            ind += 1\n",
    "        print('Cost:', self.cost)\n",
    "\n",
    "\n",
    "print(\"Total Traveller:\", Traveller.count)\n",
    "t1 = Traveller(\"Naruto\")\n",
    "t1.buyTickets(\"Mist Village\",5000,\"Rain Village\", 10000)\n",
    "t2 = Traveller(\"Minato\")\n",
    "t2.buyTickets(\"Cloud Village\",15000,\"Sand Village\",1200,\"Stone Village\", 5000)\n",
    "t3 = Traveller(\"Kushina\")\n",
    "t3.buyTickets(\"Leaves Village\", 3000)\n",
    "print(\"=========================\")\n",
    "t1.printDetail()\n",
    "print(\"=========================\")\n",
    "t2.printDetail()\n",
    "print(\"=========================\")\n",
    "t3.printDetail()\n",
    "print(\"=========================\")\n",
    "print(\"Total Traveller:\", Traveller.count)"
   ]
  }
 ],
 "metadata": {
  "kernelspec": {
   "display_name": "Python 3",
   "language": "python",
   "name": "python3"
  },
  "language_info": {
   "codemirror_mode": {
    "name": "ipython",
    "version": 3
   },
   "file_extension": ".py",
   "mimetype": "text/x-python",
   "name": "python",
   "nbconvert_exporter": "python",
   "pygments_lexer": "ipython3",
   "version": "3.8.8"
  }
 },
 "nbformat": 4,
 "nbformat_minor": 5
}
