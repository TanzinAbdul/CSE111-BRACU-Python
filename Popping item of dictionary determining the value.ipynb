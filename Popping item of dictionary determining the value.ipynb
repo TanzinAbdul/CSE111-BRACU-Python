{
 "cells": [
  {
   "cell_type": "code",
   "execution_count": 7,
   "id": "a231b87d",
   "metadata": {},
   "outputs": [
    {
     "name": "stdout",
     "output_type": "stream",
     "text": [
      "new dict {2: 'b', 3: 'c'}\n",
      "{2: 'b', 3: 'c'}\n"
     ]
    }
   ],
   "source": [
    "temp_dict = {1: 'a', 2: 'b', 3: 'c', 4: 'a', 5: 'a'}\n",
    "\n",
    "string = 'a'\n",
    "out_dict = {}\n",
    "new_dict = {}\n",
    "\n",
    "new_dict = {key: value for key, value in temp_dict.items() if temp_dict[key]!= string}\n",
    "\n",
    "\n",
    "print('new dict', new_dict)\n",
    "        \n",
    "for key, value in temp_dict.items():\n",
    "    if temp_dict[key] != string:\n",
    "        out_dict[key] = value\n",
    "            \n",
    "print(out_dict)"
   ]
  },
  {
   "cell_type": "code",
   "execution_count": 13,
   "id": "10d89d2b",
   "metadata": {},
   "outputs": [
    {
     "name": "stdout",
     "output_type": "stream",
     "text": [
      "[4, 16]\n"
     ]
    }
   ],
   "source": [
    "temp_list = [i*i for i in range(1, 6) if i % 2 == 0]\n",
    "print(temp_list)"
   ]
  }
 ],
 "metadata": {
  "kernelspec": {
   "display_name": "Python 3",
   "language": "python",
   "name": "python3"
  },
  "language_info": {
   "codemirror_mode": {
    "name": "ipython",
    "version": 3
   },
   "file_extension": ".py",
   "mimetype": "text/x-python",
   "name": "python",
   "nbconvert_exporter": "python",
   "pygments_lexer": "ipython3",
   "version": "3.8.8"
  }
 },
 "nbformat": 4,
 "nbformat_minor": 5
}
