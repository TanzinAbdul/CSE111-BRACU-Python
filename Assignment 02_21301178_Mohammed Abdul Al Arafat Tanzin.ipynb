{
 "cells": [
  {
   "cell_type": "markdown",
   "id": "b906f5de",
   "metadata": {},
   "source": [
    "## Lab Assignment 2 : Functions"
   ]
  },
  {
   "cell_type": "markdown",
   "id": "3b1f0d51",
   "metadata": {},
   "source": [
    "## Task 1"
   ]
  },
  {
   "cell_type": "code",
   "execution_count": 6,
   "id": "7bb44131",
   "metadata": {},
   "outputs": [
    {
     "name": "stdout",
     "output_type": "stream",
     "text": [
      "Enter numbers: (5, 2)\n",
      "0.5\n"
     ]
    }
   ],
   "source": [
    "def fraction(x, y):\n",
    "    if x == 0 or y == 0:\n",
    "        return 0\n",
    "    else:\n",
    "        result = abs((x/y) - int(x/y))\n",
    "        return result\n",
    "num = (input(\"Enter numbers: \").strip('()')).split(',')\n",
    "print(fraction(float(num[0]), float(num[1])))"
   ]
  },
  {
   "cell_type": "markdown",
   "id": "27b6be26",
   "metadata": {},
   "source": [
    "## Task 2"
   ]
  },
  {
   "cell_type": "code",
   "execution_count": 2,
   "id": "4ca7cd59",
   "metadata": {},
   "outputs": [
    {
     "name": "stdout",
     "output_type": "stream",
     "text": [
      "Enter height, weight: 175, 96\n",
      "Score is 31.3. You are Obese\n"
     ]
    }
   ],
   "source": [
    "def bmi(height, weight):\n",
    "    bmi = weight/(0.01*height)**2\n",
    "    if bmi < 18.5 :\n",
    "        print('Score is ' + str(round(bmi, 1)) + '. You are Underweight')\n",
    "    elif 18.5 <= bmi <= 24.9:\n",
    "        print('Score is ' + str(round(bmi, 1)) + '. You are Normal')\n",
    "    elif 25 <= bmi <= 30:\n",
    "        print('Score is ' + str(round(bmi, 1)) + '. You are Overweight')\n",
    "    elif bmi > 30:\n",
    "        print('Score is ' + str(round(bmi, 1)) + '. You are Obese')\n",
    "height, weight = (input('Enter height, weight: ').strip('()')).split(',')        \n",
    "bmi(int(height), int(weight))"
   ]
  },
  {
   "cell_type": "markdown",
   "id": "ff3f82ec",
   "metadata": {},
   "source": [
    "## Task 3"
   ]
  },
  {
   "cell_type": "code",
   "execution_count": 8,
   "id": "bfc7786b",
   "metadata": {},
   "outputs": [
    {
     "name": "stdout",
     "output_type": "stream",
     "text": [
      "Enter minimum, maximum, divisor: (3, 16, 3)\n",
      "45\n"
     ]
    }
   ],
   "source": [
    "def div_add(minimum, maximum, divisor):\n",
    "    addition = 0\n",
    "    for num in range(minimum, maximum):\n",
    "        if num % divisor == 0:\n",
    "            addition += num\n",
    "    return addition\n",
    "minimum,maximum,divisor = (input('Enter minimum, maximum, divisor: ').strip('()')).split(',')\n",
    "print(div_add(int(minimum), int(maximum), int(divisor)))"
   ]
  },
  {
   "cell_type": "markdown",
   "id": "257b21fd",
   "metadata": {},
   "source": [
    "## Task 4"
   ]
  },
  {
   "cell_type": "code",
   "execution_count": 18,
   "id": "645f1c63",
   "metadata": {},
   "outputs": [
    {
     "name": "stdout",
     "output_type": "stream",
     "text": [
      "243.6\n"
     ]
    }
   ],
   "source": [
    "def chillox(burger, place = 'Mohakhali'):\n",
    "    menu = {'BBQ Chicken Cheese Burger' : 250, 'Beef Burger' : 170, 'Naga Drums' : 200}\n",
    "    if place == 'Mohakhali':\n",
    "        total = menu[burger] + (menu[burger]*0.08) + 40\n",
    "    else:\n",
    "        total = menu[burger] + (menu[burger]*0.08) + 60\n",
    "    print(total)\n",
    "chillox('Beef Burger', 'Dhanmondi')"
   ]
  },
  {
   "cell_type": "markdown",
   "id": "9050103e",
   "metadata": {},
   "source": [
    "## Task 5"
   ]
  },
  {
   "cell_type": "code",
   "execution_count": 19,
   "id": "a33eadb4",
   "metadata": {},
   "outputs": [
    {
     "name": "stdout",
     "output_type": "stream",
     "text": [
      "Enter email, new domain, old domain: (‘bob@sheba.xyz’, ‘sheba.xyz’)\n",
      "Unchanged: bob@sheba.xyz\n"
     ]
    }
   ],
   "source": [
    "def replace_domain(email, new_domain = 'sheba.xyz', old_domain = 'kaaj.com'):\n",
    "    if email[-9:] == 'sheba.xyz':\n",
    "        print('Unchanged:', email)\n",
    "    else:\n",
    "        print('Changed: ' + email[:int(email.index('@'))+1] + 'sheba.xyz')\n",
    "user_input = (input('Enter email, new domain, old domain: ').strip('()')).split(',')\n",
    "if len(user_input) == 3 or len(user_input) == 2:\n",
    "    email = user_input[0].strip(\"'‘’'\")\n",
    "    new_domain = user_input[1]\n",
    "else:\n",
    "    email = user_input[0]\n",
    "replace_domain(email, new_domain)"
   ]
  },
  {
   "cell_type": "markdown",
   "id": "66cb25c3",
   "metadata": {},
   "source": [
    "## Task 6"
   ]
  },
  {
   "cell_type": "code",
   "execution_count": 27,
   "id": "daacb574",
   "metadata": {},
   "outputs": [
    {
     "name": "stdout",
     "output_type": "stream",
     "text": [
      "Enter your full name: Steve jobs\n",
      "Vowels: e, e, o. Total number of vowels: 3\n"
     ]
    }
   ],
   "source": [
    "def vowel(user_name):\n",
    "    vowel_count = 0\n",
    "    result = []\n",
    "    vowels = ['a', 'e', 'i', 'o', 'u',]\n",
    "    for letter in user_name:\n",
    "        if letter.lower() in vowels:\n",
    "            vowel_count += 1\n",
    "            result.append(letter)\n",
    "    if vowel_count == 0:\n",
    "        print('No vowels in the name')\n",
    "    else:\n",
    "        print('Vowels: ', end= '')\n",
    "        for let in result:\n",
    "            if let == result[len(result)-1]:\n",
    "                print(let + '.', end='')\n",
    "            else:\n",
    "                print(let + ', ', end='')\n",
    "        print(' Total number of vowels: '+str(vowel_count))\n",
    "user_name = input('Enter your full name: ')\n",
    "vowel(user_name)"
   ]
  },
  {
   "cell_type": "markdown",
   "id": "e02c6e83",
   "metadata": {},
   "source": [
    "## Task 7"
   ]
  },
  {
   "cell_type": "code",
   "execution_count": 37,
   "id": "4b082580",
   "metadata": {},
   "outputs": [
    {
     "name": "stdout",
     "output_type": "stream",
     "text": [
      "Enter your string: nurses run\n",
      "Palindrome\n"
     ]
    }
   ],
   "source": [
    "def check_palindrome(user_string):\n",
    "    string = ''\n",
    "    rev_string = ''\n",
    "    for letter in user_string:\n",
    "        if 'A' <= letter <= 'z':\n",
    "            string += letter\n",
    "    for i in range(-1, -len(user_string)-1, -1):\n",
    "        if 'A' <= user_string[i] <= 'z':\n",
    "            rev_string += user_string[i]\n",
    "    if string == rev_string:\n",
    "        print('Palindrome')\n",
    "    else:\n",
    "        print('Not a palindrome')\n",
    "user_string = input('Enter your string: ')\n",
    "check_palindrome(user_string)"
   ]
  },
  {
   "cell_type": "markdown",
   "id": "19f61045",
   "metadata": {},
   "source": [
    "## Task 8"
   ]
  },
  {
   "cell_type": "code",
   "execution_count": 41,
   "id": "183c6a3a",
   "metadata": {},
   "outputs": [
    {
     "name": "stdout",
     "output_type": "stream",
     "text": [
      "Enter days: 4320\n",
      "11 years, 10 months and 5 days\n"
     ]
    }
   ],
   "source": [
    "def day_converter(days):\n",
    "    years = days // 365\n",
    "    months = (days -( years * 365)) // 30\n",
    "    day = days - (months * 30) - (years * 365)\n",
    "    print(years, 'years,', months, 'months and', day, 'days')\n",
    "user_days = int(input('Enter days: '))\n",
    "day_converter(user_days)"
   ]
  },
  {
   "cell_type": "markdown",
   "id": "224cd23b",
   "metadata": {},
   "source": [
    "## Task 9"
   ]
  },
  {
   "cell_type": "code",
   "execution_count": 27,
   "id": "4ff1a470",
   "metadata": {},
   "outputs": [
    {
     "name": "stdout",
     "output_type": "stream",
     "text": [
      "Enter string: ('my favourite animal is a dog. a dog has sharp teeth so that it can eat flesh very easily. do you know my pet dog’s name? i love my pet very much.')\n",
      "\n",
      "My favourite animal is a dog. A dog has sharp teeth so that it can eat flesh very easily. Do you know my pet dog’s name? I love my pet very much.\n"
     ]
    }
   ],
   "source": [
    "user_string = input('Enter string: ').strip(\"'()'\")\n",
    "def capitlization(sentence):\n",
    "    string = sentence[0].upper()\n",
    "    sign = ['.', '!', '?']\n",
    "    for i in range(1, len(sentence)):\n",
    "        if i+2 < len(sentence):\n",
    "            if sentence[i-2] in sign and sentence[i-1] == ' ':\n",
    "                string += sentence[i].upper()\n",
    "            elif sentence[i] == 'i' and sentence[i-1] == ' ' and sentence[i+1] == ' ':\n",
    "                string +=  'I'\n",
    "            else:\n",
    "                string += sentence[i]\n",
    "        else:\n",
    "            string += sentence[i]\n",
    "    return string\n",
    "print('\\n'+capitlization(user_string))"
   ]
  }
 ],
 "metadata": {
  "kernelspec": {
   "display_name": "Python 3",
   "language": "python",
   "name": "python3"
  },
  "language_info": {
   "codemirror_mode": {
    "name": "ipython",
    "version": 3
   },
   "file_extension": ".py",
   "mimetype": "text/x-python",
   "name": "python",
   "nbconvert_exporter": "python",
   "pygments_lexer": "ipython3",
   "version": "3.8.8"
  }
 },
 "nbformat": 4,
 "nbformat_minor": 5
}
