{
 "cells": [
  {
   "cell_type": "markdown",
   "id": "29b062a4",
   "metadata": {},
   "source": [
    "## Task - 01"
   ]
  },
  {
   "cell_type": "code",
   "execution_count": 15,
   "id": "64ea4ab8",
   "metadata": {},
   "outputs": [
    {
     "name": "stdout",
     "output_type": "stream",
     "text": [
      "Name: default Department: BBA\n",
      "Name: Humpty Dumpty Department: BBA\n",
      "Name: Little Bo Peep Department: BBA\n"
     ]
    }
   ],
   "source": [
    "class Student:\n",
    "    def __init__(self, name='Just a student', dept='nothing'):\n",
    "        self.__name = name\n",
    "        self.__department = dept \n",
    "    def set_department(self, dept):\n",
    "        self.__department = dept \n",
    "    def get_name(self):\n",
    "        return self.__name \n",
    "    def set_name(self,name):\n",
    "        self.__name = name\n",
    "    def __str__(self):\n",
    "        return 'Name: '+self.__name+' Department: '+self.__department \n",
    "\n",
    "#Write your code here\n",
    "\n",
    "class BBA_Student(Student):\n",
    "    def __init__(self, name = 'default', dept = 'BBA'):\n",
    "        super().__init__(name, dept)\n",
    "\n",
    "\n",
    "print(BBA_Student()) \n",
    "print(BBA_Student('Humpty Dumpty')) \n",
    "print(BBA_Student('Little Bo Peep'))"
   ]
  },
  {
   "cell_type": "markdown",
   "id": "99d99bea",
   "metadata": {},
   "source": [
    "## Task - 02"
   ]
  },
  {
   "cell_type": "code",
   "execution_count": 71,
   "id": "43b589b0",
   "metadata": {},
   "outputs": [
    {
     "name": "stdout",
     "output_type": "stream",
     "text": [
      "Part 1\n",
      "------\n",
      "(0 , 0)\n",
      "(0 , 1)\n",
      "(-1 , 1)\n",
      "(-1 , 0)\n",
      "(0 , 0)\n",
      "------\n",
      "Part 2\n",
      "------\n",
      "(0 , 0)\n",
      "(-1 , -1)\n",
      "False\n",
      "True\n",
      "------\n"
     ]
    }
   ],
   "source": [
    "class Vehicle:\n",
    "    def __init__(self):\n",
    "        self.x = 0\n",
    "        self.y = 0\n",
    "    def moveUp(self):\n",
    "        self.y+=1\n",
    "    def moveDown(self):\n",
    "        self.y-=1\n",
    "    def moveRight(self):\n",
    "        self.x+=1\n",
    "    def moveLeft(self):\n",
    "        self.x-=1\n",
    "    def __str__(self):\n",
    "        return '('+str(self.x)+' , '+str(self.y)+')'\n",
    "    \n",
    "#write your code here\n",
    "\n",
    "class Vehicle2010(Vehicle):\n",
    "    \n",
    "    def __init__(self):\n",
    "        super().__init__()\n",
    "        \n",
    "    def moveUpperLeft(self):\n",
    "        self.x -= 1\n",
    "        self.y += 1\n",
    "        \n",
    "    def moveLowerLeft(self):\n",
    "        self.x -= 1\n",
    "        self.y -= 1\n",
    "        \n",
    "    def moveUpperRight(self):\n",
    "        self.x += 1\n",
    "        self.y += 1\n",
    "        \n",
    "    def moveLowerRight(self):\n",
    "        self.x += 1\n",
    "        self.y -= 1\n",
    "        \n",
    "    def equals(self, other):\n",
    "        if self.x == other.x and self.y == other.y:\n",
    "            return True\n",
    "        else:\n",
    "            return False\n",
    "\n",
    "        \n",
    "print('Part 1')\n",
    "print('------')\n",
    "car = Vehicle()\n",
    "print(car)\n",
    "car.moveUp()\n",
    "print(car)\n",
    "car.moveLeft()\n",
    "print(car)\n",
    "car.moveDown()\n",
    "print(car)\n",
    "car.moveRight()\n",
    "print(car)\n",
    "print('------')\n",
    "print('Part 2')\n",
    "print('------')\n",
    "car1 = Vehicle2010()\n",
    "print(car1)\n",
    "car1.moveLowerLeft()\n",
    "print(car1)\n",
    "car2 = Vehicle2010()\n",
    "car2.moveLeft()\n",
    "print(car1.equals(car2))\n",
    "car2.moveDown()\n",
    "print(car1.equals(car2))\n",
    "print('------')"
   ]
  },
  {
   "cell_type": "markdown",
   "id": "3b47689d",
   "metadata": {},
   "source": [
    "## Task - 03"
   ]
  },
  {
   "cell_type": "code",
   "execution_count": 47,
   "id": "addf6d27",
   "metadata": {},
   "outputs": [
    {
     "name": "stdout",
     "output_type": "stream",
     "text": [
      "Cricket Tournament Name: Default\n",
      "Numer of teams: 0\n",
      "Type: No type\n",
      "-----------------------\n",
      "Cricket Tournament Name: IPL\n",
      "Numer of teams: 10\n",
      "Type: t20\n",
      "-----------------------\n",
      "Tennis Tournament Name: Roland Garros\n",
      "Number of Players: 128\n"
     ]
    }
   ],
   "source": [
    "class Tournament:\n",
    "    def __init__(self,name='Default'):\n",
    "        self.__name = name\n",
    "    def set_name(self,name):\n",
    "        self.__name = name\n",
    "    def get_name(self):\n",
    "        return self.__name \n",
    "    \n",
    "#write your code here\n",
    "\n",
    "class Cricket_Tournament(Tournament):\n",
    "    \n",
    "    def __init__(self, name = 'Default', num = 0, type = 'No type'):\n",
    "        super().__init__(name)\n",
    "        self.num = num\n",
    "        self.type = type\n",
    "        \n",
    "    def detail(self):\n",
    "        return 'Cricket Tournament Name: ' + self.get_name() + '\\nNumer of teams: ' + str(self.num) +'\\nType: ' + self.type\n",
    "\n",
    "class Tennis_Tournament(Tournament):\n",
    "    \n",
    "    def __init__(self, name, num):\n",
    "        super().__init__(name)\n",
    "        self.num = num\n",
    "    \n",
    "    def detail(self):\n",
    "        return 'Tennis Tournament Name: ' + self.get_name() + '\\nNumber of Players: ' + str(self.num) \n",
    "        \n",
    "    \n",
    "    \n",
    "ct1 = Cricket_Tournament()\n",
    "print(ct1.detail())\n",
    "print(\"-----------------------\")\n",
    "ct2 = Cricket_Tournament(\"IPL\",10,\"t20\")\n",
    "print(ct2.detail())\n",
    "print(\"-----------------------\")\n",
    "tt = Tennis_Tournament(\"Roland Garros\",128)\n",
    "print(tt.detail())"
   ]
  },
  {
   "cell_type": "markdown",
   "id": "c3ee09c9",
   "metadata": {},
   "source": [
    "## Task - 04"
   ]
  },
  {
   "cell_type": "code",
   "execution_count": 54,
   "id": "fc1d1767",
   "metadata": {},
   "outputs": [
    {
     "name": "stdout",
     "output_type": "stream",
     "text": [
      "ID: 1 Title: The Alchemist Price: 500\n",
      "ISBN: 97806 Publisher: HarperCollins\n",
      "-----------------------\n",
      "ID: 2 Title: Shotto Price: 300\n",
      "Band: Warfaze Duration: 50minutes\n",
      "Genre: Hard Rock\n"
     ]
    }
   ],
   "source": [
    "class Product:\n",
    "    def __init__(self,id, title, price):\n",
    "        self.__id = id\n",
    "        self. __title = title\n",
    "        self. __price = price\n",
    "    def get_id_title_price(self):\n",
    "        return \"ID: \"+str(self.__id)+\" Title: \"+self.__title+\" Price: \"+str(self.__price)\n",
    "\n",
    "\n",
    "#write your code here\n",
    "class Book(Product):\n",
    "    def __init__(self, ID, name, price, isbn, publisher):\n",
    "        super().__init__(ID, name, price)\n",
    "        self.isbn = isbn \n",
    "        self.publisher = publisher\n",
    "        \n",
    "    def printDetail(self):\n",
    "        return self.get_id_title_price() + '\\nISBN: ' + self.isbn + ' Publisher: ' + self.publisher\n",
    "\n",
    "class CD(Product):\n",
    "    def __init__(self, ID, title, price, band, duration, genre):\n",
    "        super().__init__(ID, title, price)\n",
    "        self.band = band\n",
    "        self.duration = duration\n",
    "        self.genre = genre\n",
    "        \n",
    "    def printDetail(self):\n",
    "        return self.get_id_title_price() + '\\nBand: ' + self.band + ' Duration: ' + str(self.duration) + 'minutes' + '\\nGenre: ' + self.genre\n",
    "        \n",
    "\n",
    "book = Book(1,\"The Alchemist\",500,\"97806\",\"HarperCollins\")\n",
    "print(book.printDetail())\n",
    "print(\"-----------------------\")\n",
    "cd = CD(2,\"Shotto\",300,\"Warfaze\",50,\"Hard Rock\")\n",
    "print(cd.printDetail())"
   ]
  },
  {
   "cell_type": "markdown",
   "id": "38cdaba5",
   "metadata": {},
   "source": [
    "## Task - 05"
   ]
  },
  {
   "cell_type": "code",
   "execution_count": 57,
   "id": "8bc9578b",
   "metadata": {},
   "outputs": [
    {
     "name": "stdout",
     "output_type": "stream",
     "text": [
      "Animal does not make sound\n",
      "meow\n",
      "bark\n"
     ]
    }
   ],
   "source": [
    "class Animal:\n",
    "    def __init__(self,sound):\n",
    "        self.__sound = sound\n",
    "        \n",
    "    def makeSound(self):\n",
    "        return self.__sound\n",
    "\n",
    "    \n",
    "class Printer:\n",
    "    def printSound(self, a):\n",
    "        print(a.makeSound()) \n",
    "        \n",
    "#write your code here\n",
    "class Dog(Animal, Printer):\n",
    "    def __init__(self, sound):\n",
    "        super().__init__(sound)\n",
    "        \n",
    "class Cat(Animal, Printer):\n",
    "    def __init__(self, sound):\n",
    "        super().__init__(sound)\n",
    "        \n",
    "d1 = Dog('bark')\n",
    "c1 = Cat('meow')\n",
    "a1 = Animal('Animal does not make sound')\n",
    "pr = Printer()\n",
    "pr.printSound(a1)\n",
    "pr.printSound(c1)\n",
    "pr.printSound(d1)"
   ]
  },
  {
   "cell_type": "markdown",
   "id": "c51b2331",
   "metadata": {},
   "source": [
    "## Task - 06"
   ]
  },
  {
   "cell_type": "code",
   "execution_count": 76,
   "id": "f4635644",
   "metadata": {},
   "outputs": [
    {
     "name": "stdout",
     "output_type": "stream",
     "text": [
      "Shape Name: Default\n",
      "Height: 0, Base: 0\n",
      "Area: 0.0\n",
      "--------------------------\n",
      "Shape Name: Triangle\n",
      "Height: 10, Base: 5\n",
      "Area: 25.0\n",
      "---------------------------\n",
      "Shape Name: Trapezoid\n",
      "Height: 10, Base: 6, Side_A: 4\n",
      "Area: 50.0\n"
     ]
    }
   ],
   "source": [
    "class Shape:\n",
    "    \n",
    "    def __init__(self, name='Default', height=0, base=0):\n",
    "        self.area = 0\n",
    "        self.name = name\n",
    "        self.height = height\n",
    "        self.base = base\n",
    "        \n",
    "    def get_height_base(self):\n",
    "        return \"Height: \"+str(self.height)+\", Base: \"+str(self.base)\n",
    "\n",
    "#write your code here\n",
    "\n",
    "class triangle(Shape):\n",
    "    def __init__(self, name='Default', height=0, base=0):\n",
    "        super().__init__(name, height, base)\n",
    "        \n",
    "    def calcArea(self):\n",
    "        self.area = .5 * self.base * self.height\n",
    "    \n",
    "    def printDetail(self):\n",
    "        return 'Shape Name: '+ self.name+'\\n'+ self.get_height_base() + '\\nArea: ' + str(self.area)\n",
    "    \n",
    "class trapezoid(Shape):\n",
    "    def __init__(self, name='Default', height=0, base=0, side=0):\n",
    "        super().__init__(name, height, base)\n",
    "        self.side = side\n",
    "        \n",
    "    def calcArea(self):\n",
    "        self.area = .5 * self.height* (self.side + self.base )\n",
    "        \n",
    "    def printDetail(self):\n",
    "        return 'Shape Name: '+ self.name+'\\n'+ self.get_height_base() +', Side_A: ' + str(self.side) + '\\nArea: ' + str(self.area)\n",
    "        \n",
    "\n",
    "tri_default = triangle()\n",
    "tri_default.calcArea()\n",
    "print(tri_default.printDetail())\n",
    "print('--------------------------')\n",
    "tri = triangle('Triangle', 10, 5)\n",
    "tri.calcArea() \n",
    "print(tri.printDetail())\n",
    "print('---------------------------')\n",
    "trap = trapezoid('Trapezoid', 10, 6, 4)\n",
    "trap.calcArea()\n",
    "print(trap.printDetail())"
   ]
  },
  {
   "cell_type": "markdown",
   "id": "4da6e8e1",
   "metadata": {},
   "source": [
    "## Task - 07"
   ]
  },
  {
   "cell_type": "code",
   "execution_count": 94,
   "id": "de781d2d",
   "metadata": {},
   "outputs": [
    {
     "name": "stdout",
     "output_type": "stream",
     "text": [
      "Name: Ronaldo, Team Name: Juventus\n",
      "Team Role: Striker\n",
      "Total Goal: 25, Total Played: 32\n",
      "Goal Ratio: 0.78125\n",
      "Match Earning: 25320k\n",
      "------------------------------------------\n",
      "Name: Zidane, Team Name: Real Madrid\n",
      "Team Role: Manager\n",
      "Total win: 25\n",
      "Match Earning: 25000k\n"
     ]
    }
   ],
   "source": [
    "class Football:\n",
    "    \n",
    "    def __init__(self, team_name, name, role):\n",
    "        self.__team = team_name\n",
    "        self.__name = name\n",
    "        self.role = role\n",
    "        self.earning_per_match = 0\n",
    "    \n",
    "    def get_name_team(self):\n",
    "        return 'Name: '+self.__name+', Team Name: ' +self.__team\n",
    "    \n",
    "#write your code here\n",
    "class Player(Football):\n",
    "    \n",
    "    def __init__(self, team_name, name, role, total_goal, total_match):\n",
    "        super().__init__(team_name, name, role)\n",
    "        self.total_match = total_match\n",
    "        self.total_goal = total_goal\n",
    "        \n",
    "    def calculate_ratio(self):\n",
    "        self.ratio = self.total_goal/self.total_match\n",
    "        \n",
    "    def print_details(self):\n",
    "        print(self.get_name_team())\n",
    "        print('Team Role:', self.role)\n",
    "        print('Total Goal: ' + str(self.total_goal) + ',' + ' Total Played: ' + str(self.total_match))\n",
    "        print('Goal Ratio:', self.ratio)\n",
    "        print('Match Earning: ' + str(self.total_goal*1000 + self.total_match*10) + 'k')\n",
    "        \n",
    "        \n",
    "class Manager(Football):\n",
    "    \n",
    "    def __init__(self, team_name, name, role, total_win):\n",
    "        super().__init__(team_name, name, role)\n",
    "        self.total_win = total_win\n",
    "        \n",
    "    def print_details(self):\n",
    "        print(self.get_name_team())\n",
    "        print('Team Role:', self.role)\n",
    "        print('Total win:', self.total_win)\n",
    "        print('Match Earning: ' + str(self.total_win*1000) + 'k')\n",
    "\n",
    "player_one = Player('Juventus', 'Ronaldo', 'Striker', 25, 32) \n",
    "player_one.calculate_ratio()\n",
    "player_one.print_details()\n",
    "print('------------------------------------------')\n",
    "manager_one = Manager('Real Madrid', 'Zidane', 'Manager', 25)\n",
    "manager_one.print_details()"
   ]
  }
 ],
 "metadata": {
  "kernelspec": {
   "display_name": "Python 3",
   "language": "python",
   "name": "python3"
  },
  "language_info": {
   "codemirror_mode": {
    "name": "ipython",
    "version": 3
   },
   "file_extension": ".py",
   "mimetype": "text/x-python",
   "name": "python",
   "nbconvert_exporter": "python",
   "pygments_lexer": "ipython3",
   "version": "3.8.8"
  }
 },
 "nbformat": 4,
 "nbformat_minor": 5
}
