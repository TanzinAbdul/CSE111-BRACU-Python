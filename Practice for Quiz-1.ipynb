{
 "cells": [
  {
   "cell_type": "markdown",
   "id": "8e6d6f55",
   "metadata": {},
   "source": [
    "## Question 1\n",
    "Write a Python program which will take N names from the user. Create a dictionary from the N names that will hold First_name, Middle_name and Last_name in separate keys. The inputs will take N at first and then take N names. You can assume that the names will contain less than or equal 3 words and there will be single space between each part of the name.\n",
    "\n",
    "Sample Input:  \n",
    "4\\\n",
    "Zubayer Ahmed\\\n",
    "Sadia Nur Amin\\\n",
    "Mehedi Hasan Shawon\\\n",
    "Nafis\n",
    "\n",
    "Sample Output: { \"Fname\" : [“Zubayer”, “Sadia”, “Mehedi”, “Nafis”] , \"Mname\" : [“Nur”, “Hasan”], \"Lname\" : [“Ahmed”, “Amin”, “Shawon”] }\n"
   ]
  },
  {
   "cell_type": "code",
   "execution_count": 12,
   "id": "33637774",
   "metadata": {},
   "outputs": [
    {
     "name": "stdout",
     "output_type": "stream",
     "text": [
      "Enter N: 4\n",
      "Enter name: Zubayer Ahmed\n",
      "Enter name: Sadia Nur Amin\n",
      "Enter name: Mehedi Hasan Shawon\n",
      "Enter name: Nafis\n",
      "{'Fname': ['Zubayer', 'Sadia', 'Mehedi', 'Nafis'], 'Mname': ['Nur', 'Hasan'], 'Lname': ['Ahmed', 'Amin', 'Shawon']}\n"
     ]
    }
   ],
   "source": [
    "n = int(input(\"Enter N: \"))\n",
    "names = []\n",
    "count = 0\n",
    "for i in range(n):\n",
    "    names.append(input('Enter name: '))\n",
    "name_dict = {'Fname' : [], 'Mname' : [], 'Lname' : []}\n",
    "for name in names:\n",
    "    name = name.split(' ')\n",
    "    if count == 0:\n",
    "        name_dict['Fname'] = [name[0]]\n",
    "        if len(name) == 2:\n",
    "            name_dict['Lname'] = [name[1]]\n",
    "        elif len(name) == 3:\n",
    "            name_dict['Mname'] = [name[1]]\n",
    "            name_dict['Lname'] = [name[2]]\n",
    "    else:\n",
    "        name_dict['Fname'].append(name[0])\n",
    "        if len(name) == 2:\n",
    "            name_dict['Lname'].append(name[1])\n",
    "        elif len(name) == 3:\n",
    "            name_dict['Mname'].append(name[1])\n",
    "            name_dict['Lname'].append(name[2])\n",
    "    count = 1\n",
    "print(name_dict)"
   ]
  },
  {
   "cell_type": "markdown",
   "id": "adeafad0",
   "metadata": {},
   "source": [
    "## Question 2\n",
    " One of the important tasks in computational biology is to find short repeating patterns from DNA sequences. These patterns help the biologists to analyze the functionality of different parts in a living being. As a computer science student, you are asked to write a program that will find all the patterns of a given length from a DNA sequence and their number of presence in that sequence. This information will help to find the dominant pattern of a given length in the sequence. You will also find the dominant pattern. Dominant pattern is the sequence which has maximum occurrence. If there are multiple dominant pattern the program will print “No Dominant Pattern found.” \n",
    "\n",
    "Sample Input: <br> \n",
    "ATTCGATCG<br>\n",
    "3<br> \n",
    "Sample Output:<br> \n",
    "ATT 1\\\n",
    "TTC 1\\\n",
    "TCG 2\\\n",
    "CGA 1\\\n",
    "GAT 1\\\n",
    "ATC 1\\\n",
    "Dominant Pattern: TCG\n",
    "\n",
    "Sample Input: <br> \n",
    "ATTCGATCGATC\\\n",
    "4<br> \n",
    "Sample Output:<br>\n",
    "ATTC 1\\\n",
    "TTCG 1\\\n",
    "TCGA 2\\\n",
    "CGAT 2\\\n",
    "GATC 2\\\n",
    "ATCG 1\\\n",
    "No Dominant Pattern found."
   ]
  },
  {
   "cell_type": "code",
   "execution_count": 31,
   "id": "f3634b58",
   "metadata": {},
   "outputs": [
    {
     "name": "stdout",
     "output_type": "stream",
     "text": [
      "Enter DNA Pattern: ATTCGATCGATC\n",
      "Enter Pattern lenght: 4\n",
      "ATTC 1\n",
      "TTCG 1\n",
      "TCGA 2\n",
      "CGAT 2\n",
      "GATC 2\n",
      "ATCG 1\n",
      "No Dominant Pattern found\n"
     ]
    }
   ],
   "source": [
    "pattern = input('Enter DNA Pattern: ')\n",
    "length = int(input('Enter Pattern lenght: '))\n",
    "start = 0\n",
    "end = length\n",
    "pattern_list = []\n",
    "for dna in pattern:\n",
    "    if end <= len(pattern):\n",
    "        pattern_list.append(pattern[start:end])\n",
    "        start += 1\n",
    "        end = start + length\n",
    "result = []\n",
    "for pattern in pattern_list:\n",
    "    if pattern not in result:\n",
    "        result.append(pattern)\n",
    "maximum = 0\n",
    "for output in result:\n",
    "    print(output, pattern_list.count(output))\n",
    "    if pattern_list.count(output) == maximum:\n",
    "        dominant = 'No Dominant Pattern found'\n",
    "    elif pattern_list.count(output) > maximum:\n",
    "        maximum = pattern_list.count(output)\n",
    "        dominant = ('Dominant Pattern: '+ output)\n",
    "print(dominant)"
   ]
  },
  {
   "cell_type": "markdown",
   "id": "99831210",
   "metadata": {},
   "source": [
    "## Question 3 \n",
    "Counter Strike Global Offensive is a first person shooting(FPS) game where in a match 2 teams each with 5 members play against each other in different maps. Let's say there are 2 teams, Team A and Team B. For the first half (15 rounds) Team A will play as terrorists and Team B members will play as counter terrorists. In the second half(15 rounds) Team B will play as terrorists and Team A will play as counter terrorists. The first team to reach 16 rounds will win the match. In order for the terrorist team to win a round they have to plant, defend and explode a bomb at a particular spot or eliminate all the members of the counter terrorist team. In order for the counter terrorist team to win a round, they have to eliminate all the members of the terrorist team or diffuse the bomb that was planted by the terrorist team. Unlike other games, the Most Valuable Player(MVP), can be from any of the two teams regardless of which team wins based on the points calculated from performance of the players. Now you will be given the status of a match between 2 teams as input that will contain performance(Kill, Death, Assist, Bomb Plant, Bomb Defuse, Teammate kill)  of all 10 players of the 2 participating teams. Each performance category contains points based on following criteria:\n",
    "2 points for a bomb plant.\n",
    "2 points for a kill.\n",
    "1 point for an assist.\n",
    "3 points for defusing a bomb.\n",
    "-1 point for killing a teammate.\n",
    "Now your task is to find the top 3 players based on the total point. For simplicity, you can consider  that no 2 players will have the same point.\n",
    "\n",
    "<b>Input format:</b>\n",
    "\n",
    "\n",
    "Team Name  |  Player Name | Kills | Deaths | Assists | Bomb Plant | Bomb Defuse | Teammate Kills\n",
    "\n",
    "\n",
    "<b>Sample Input:</b> <br>\n",
    "NaVi flamie 23 13 3 2 2 0    \n",
    "Fnatic Xizt 15 20 3 2 0 2\t\n",
    "Fnatic KRIMZ 12 23 9 2 2 1\t\n",
    "Navi electronic 24 13 5 2 2 0\t\n",
    "Navi Zeus 14 22 12 2 2 0\t\n",
    "Navi Edward 20 18 8 1 1 1\t\n",
    "Fnatic JW 13 24 5 3 0 0\t\n",
    "Navi s1mple 26 13 6 3 2 1\t\n",
    "Fnatic twist 25 20 4 2 3 2\t\n",
    "Fnatic Brollan 14 20 3 2 1 0 \t\t  \t\t\t\n",
    "<b>Sample Output:</b> <br>\n",
    "First: s1mple\\\n",
    "Second: twist\\\n",
    "Third: electronic"
   ]
  },
  {
   "cell_type": "code",
   "execution_count": 35,
   "id": "c791271a",
   "metadata": {},
   "outputs": [
    {
     "name": "stdout",
     "output_type": "stream",
     "text": [
      "Enter player data: NaVi flamie 23 13 3 2 2 0\n",
      "Enter player data: Fnatic Xizt 15 20 3 2 0 2\n",
      "Enter player data: Fnatic KRIMZ 12 23 9 2 2 1\n",
      "Enter player data: Navi electronic 24 13 5 2 2 0\n",
      "Enter player data: Navi Zeus 14 22 12 2 2 0\n",
      "Enter player data: Navi Edward 20 18 8 1 1 1\n",
      "Enter player data: Fnatic JW 13 24 5 3 0 0\n",
      "Enter player data: Navi s1mple 26 13 6 3 2 1\n",
      "Enter player data: Fnatic twist 25 20 4 2 3 2\n",
      "Enter player data: Fnatic Brollan 14 20 3 2 1 0\n",
      "First: s1mple\n",
      "Second: twist\n",
      "Third: electronic\n"
     ]
    }
   ],
   "source": [
    "player_score = {}\n",
    "for i in range(10):\n",
    "    player = input('Enter player data: ').split(' ')\n",
    "    player_score[player[1]] = 2*int(player[2])+int(player[4])+2*int(player[5])+3*int(player[6])-1*int(player[7])\n",
    "first = ''\n",
    "second = ''\n",
    "third = ''\n",
    "maximum = 0\n",
    "for item in player_score.items():\n",
    "    if int(item[1]) > maximum:\n",
    "        maximum = int(item[1])\n",
    "        first = item[0]\n",
    "maximum = 0\n",
    "for item in player_score.items():\n",
    "    if int(item[1]) > maximum and item[0] != first:\n",
    "        maximum = int(item[1])\n",
    "        second = item[0]\n",
    "maximum = 0\n",
    "for item in player_score.items():\n",
    "    if int(item[1]) > maximum and item[0] != first and item[0] != second:\n",
    "        maximum = int(item[1])\n",
    "        third = item[0]\n",
    "print('First:', first)\n",
    "print('Second:', second)\n",
    "print('Third:', third)\n",
    "        "
   ]
  }
 ],
 "metadata": {
  "kernelspec": {
   "display_name": "Python 3",
   "language": "python",
   "name": "python3"
  },
  "language_info": {
   "codemirror_mode": {
    "name": "ipython",
    "version": 3
   },
   "file_extension": ".py",
   "mimetype": "text/x-python",
   "name": "python",
   "nbconvert_exporter": "python",
   "pygments_lexer": "ipython3",
   "version": "3.8.8"
  }
 },
 "nbformat": 4,
 "nbformat_minor": 5
}
